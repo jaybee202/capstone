{
 "cells": [
  {
   "cell_type": "markdown",
   "metadata": {},
   "source": [
    "# Step01b: Exploratory Data Analysis (EDA)\n",
    "This notebook contains the definition of categorical variables in the prediciton of Mad Max's pitches to inlcude zone, pitch type, and speed."
   ]
  },
  {
   "cell_type": "markdown",
   "metadata": {},
   "source": [
    "## Import packages"
   ]
  },
  {
   "cell_type": "code",
   "execution_count": 171,
   "metadata": {},
   "outputs": [],
   "source": [
    "import pandas as pd\n",
    "import numpy as np\n",
    "import seaborn as sns\n",
    "import matplotlib as plt\n",
    "%matplotlib inline"
   ]
  },
  {
   "cell_type": "code",
   "execution_count": 172,
   "metadata": {},
   "outputs": [],
   "source": [
    "madmax = pd.read_csv('../data/processed/madmax_cleaned.csv', index_col=0)"
   ]
  },
  {
   "cell_type": "code",
   "execution_count": 173,
   "metadata": {},
   "outputs": [],
   "source": [
    "madmax;"
   ]
  },
  {
   "cell_type": "markdown",
   "metadata": {},
   "source": [
    "## Let's reorganize the dataframe to make it a bit easier to manipulate"
   ]
  },
  {
   "cell_type": "code",
   "execution_count": 174,
   "metadata": {},
   "outputs": [
    {
     "data": {
      "text/plain": [
       "Index(['pitch_type', 'game_date', 'release_speed', 'zone', 'stand',\n",
       "       'home_team', 'on_3b', 'on_2b', 'on_1b', 'outs_when_up', 'inning',\n",
       "       'sv_id', 'release_spin_rate', 'pitch_number', 'opp_score', 'nats_score',\n",
       "       'if_fielding_alignment', 'of_fielding_alignment', 'nats_home1_away0',\n",
       "       'balls_strikes', 'all_runners'],\n",
       "      dtype='object')"
      ]
     },
     "execution_count": 174,
     "metadata": {},
     "output_type": "execute_result"
    }
   ],
   "source": [
    "madmax.columns"
   ]
  },
  {
   "cell_type": "markdown",
   "metadata": {},
   "source": [
    "## There are two options for representing runners on base:\n",
    "- Option 1: As three discreet columns\n",
    "- Option 2: As one, combined value\n",
    "- Initial EDA will investigate Option 2"
   ]
  },
  {
   "cell_type": "code",
   "execution_count": 175,
   "metadata": {},
   "outputs": [],
   "source": [
    "### Uses discreet columns for runners on 1st, 2nd, and 3rd\n",
    "new_order1 = ['game_date', 'sv_id', 'zone', 'pitch_type', 'release_speed', 'nats_home1_away0',\n",
    "              'opp_score', 'nats_score', 'pitch_number', 'stand', 'balls_strikes', 'outs_when_up','inning',\n",
    "              'on_3b', 'on_2b', 'on_1b', 'if_fielding_alignment', 'of_fielding_alignment']\n",
    "\n",
    "### Combines runners on 1st, 2nd, and 3rd into one column\n",
    "new_order2 = ['game_date', 'sv_id', 'zone', 'pitch_type', 'release_speed', 'nats_home1_away0', \n",
    "              'opp_score', 'nats_score', 'pitch_number', 'stand', 'balls_strikes', 'outs_when_up','inning', \n",
    "              'all_runners', 'if_fielding_alignment', 'of_fielding_alignment']"
   ]
  },
  {
   "cell_type": "code",
   "execution_count": 176,
   "metadata": {},
   "outputs": [],
   "source": [
    "### Sets madmax columns to value and order as defined in new_order2\n",
    "madmax = madmax[['game_date', 'sv_id', 'zone', 'pitch_type', 'release_speed', 'nats_home1_away0', \n",
    "              'opp_score', 'nats_score', 'pitch_number', 'stand', 'balls_strikes', 'outs_when_up','inning', \n",
    "              'all_runners', 'if_fielding_alignment', 'of_fielding_alignment']]"
   ]
  },
  {
   "cell_type": "code",
   "execution_count": 177,
   "metadata": {},
   "outputs": [],
   "source": [
    "madmax = madmax.sort_values(by='sv_id')\n",
    "pd.set_option('display.max_columns', 999)\n",
    "pd.set_option('display.max_rows', 100)"
   ]
  },
  {
   "cell_type": "code",
   "execution_count": 178,
   "metadata": {
    "scrolled": false
   },
   "outputs": [
    {
     "data": {
      "text/html": [
       "<div>\n",
       "<style scoped>\n",
       "    .dataframe tbody tr th:only-of-type {\n",
       "        vertical-align: middle;\n",
       "    }\n",
       "\n",
       "    .dataframe tbody tr th {\n",
       "        vertical-align: top;\n",
       "    }\n",
       "\n",
       "    .dataframe thead th {\n",
       "        text-align: right;\n",
       "    }\n",
       "</style>\n",
       "<table border=\"1\" class=\"dataframe\">\n",
       "  <thead>\n",
       "    <tr style=\"text-align: right;\">\n",
       "      <th></th>\n",
       "      <th>game_date</th>\n",
       "      <th>sv_id</th>\n",
       "      <th>zone</th>\n",
       "      <th>pitch_type</th>\n",
       "      <th>release_speed</th>\n",
       "      <th>nats_home1_away0</th>\n",
       "      <th>opp_score</th>\n",
       "      <th>nats_score</th>\n",
       "      <th>pitch_number</th>\n",
       "      <th>stand</th>\n",
       "      <th>balls_strikes</th>\n",
       "      <th>outs_when_up</th>\n",
       "      <th>inning</th>\n",
       "      <th>all_runners</th>\n",
       "      <th>if_fielding_alignment</th>\n",
       "      <th>of_fielding_alignment</th>\n",
       "    </tr>\n",
       "  </thead>\n",
       "  <tbody>\n",
       "    <tr>\n",
       "      <th>2769</th>\n",
       "      <td>2019-03-28</td>\n",
       "      <td>190328_170717</td>\n",
       "      <td>6.0</td>\n",
       "      <td>FF</td>\n",
       "      <td>93.7</td>\n",
       "      <td>1</td>\n",
       "      <td>0</td>\n",
       "      <td>0</td>\n",
       "      <td>1</td>\n",
       "      <td>L</td>\n",
       "      <td>0_0</td>\n",
       "      <td>0</td>\n",
       "      <td>1</td>\n",
       "      <td>fb:0_sb:0_tb:0</td>\n",
       "      <td>Infield shift</td>\n",
       "      <td>Standard</td>\n",
       "    </tr>\n",
       "    <tr>\n",
       "      <th>2768</th>\n",
       "      <td>2019-03-28</td>\n",
       "      <td>190328_170732</td>\n",
       "      <td>5.0</td>\n",
       "      <td>FF</td>\n",
       "      <td>94.2</td>\n",
       "      <td>1</td>\n",
       "      <td>0</td>\n",
       "      <td>0</td>\n",
       "      <td>2</td>\n",
       "      <td>L</td>\n",
       "      <td>0_1</td>\n",
       "      <td>0</td>\n",
       "      <td>1</td>\n",
       "      <td>fb:0_sb:0_tb:0</td>\n",
       "      <td>Infield shift</td>\n",
       "      <td>Standard</td>\n",
       "    </tr>\n",
       "    <tr>\n",
       "      <th>2767</th>\n",
       "      <td>2019-03-28</td>\n",
       "      <td>190328_170752</td>\n",
       "      <td>5.0</td>\n",
       "      <td>FF</td>\n",
       "      <td>96.3</td>\n",
       "      <td>1</td>\n",
       "      <td>0</td>\n",
       "      <td>0</td>\n",
       "      <td>3</td>\n",
       "      <td>L</td>\n",
       "      <td>0_2</td>\n",
       "      <td>0</td>\n",
       "      <td>1</td>\n",
       "      <td>fb:0_sb:0_tb:0</td>\n",
       "      <td>Infield shift</td>\n",
       "      <td>Standard</td>\n",
       "    </tr>\n",
       "    <tr>\n",
       "      <th>2766</th>\n",
       "      <td>2019-03-28</td>\n",
       "      <td>190328_170825</td>\n",
       "      <td>6.0</td>\n",
       "      <td>SL</td>\n",
       "      <td>85.6</td>\n",
       "      <td>1</td>\n",
       "      <td>0</td>\n",
       "      <td>0</td>\n",
       "      <td>1</td>\n",
       "      <td>R</td>\n",
       "      <td>0_0</td>\n",
       "      <td>1</td>\n",
       "      <td>1</td>\n",
       "      <td>fb:0_sb:0_tb:0</td>\n",
       "      <td>Infield shift</td>\n",
       "      <td>Standard</td>\n",
       "    </tr>\n",
       "    <tr>\n",
       "      <th>2765</th>\n",
       "      <td>2019-03-28</td>\n",
       "      <td>190328_170842</td>\n",
       "      <td>12.0</td>\n",
       "      <td>FF</td>\n",
       "      <td>95.5</td>\n",
       "      <td>1</td>\n",
       "      <td>0</td>\n",
       "      <td>0</td>\n",
       "      <td>2</td>\n",
       "      <td>R</td>\n",
       "      <td>0_1</td>\n",
       "      <td>1</td>\n",
       "      <td>1</td>\n",
       "      <td>fb:0_sb:0_tb:0</td>\n",
       "      <td>Infield shift</td>\n",
       "      <td>Standard</td>\n",
       "    </tr>\n",
       "    <tr>\n",
       "      <th>...</th>\n",
       "      <td>...</td>\n",
       "      <td>...</td>\n",
       "      <td>...</td>\n",
       "      <td>...</td>\n",
       "      <td>...</td>\n",
       "      <td>...</td>\n",
       "      <td>...</td>\n",
       "      <td>...</td>\n",
       "      <td>...</td>\n",
       "      <td>...</td>\n",
       "      <td>...</td>\n",
       "      <td>...</td>\n",
       "      <td>...</td>\n",
       "      <td>...</td>\n",
       "      <td>...</td>\n",
       "      <td>...</td>\n",
       "    </tr>\n",
       "    <tr>\n",
       "      <th>4</th>\n",
       "      <td>2019-09-24</td>\n",
       "      <td>190925_005705</td>\n",
       "      <td>4.0</td>\n",
       "      <td>CU</td>\n",
       "      <td>79.1</td>\n",
       "      <td>1</td>\n",
       "      <td>4</td>\n",
       "      <td>2</td>\n",
       "      <td>2</td>\n",
       "      <td>R</td>\n",
       "      <td>0_1</td>\n",
       "      <td>2</td>\n",
       "      <td>6</td>\n",
       "      <td>fb:0_sb:0_tb:0</td>\n",
       "      <td>Standard</td>\n",
       "      <td>Standard</td>\n",
       "    </tr>\n",
       "    <tr>\n",
       "      <th>3</th>\n",
       "      <td>2019-09-24</td>\n",
       "      <td>190925_005726</td>\n",
       "      <td>14.0</td>\n",
       "      <td>SL</td>\n",
       "      <td>84.8</td>\n",
       "      <td>1</td>\n",
       "      <td>4</td>\n",
       "      <td>2</td>\n",
       "      <td>3</td>\n",
       "      <td>R</td>\n",
       "      <td>0_2</td>\n",
       "      <td>2</td>\n",
       "      <td>6</td>\n",
       "      <td>fb:0_sb:0_tb:0</td>\n",
       "      <td>Standard</td>\n",
       "      <td>Standard</td>\n",
       "    </tr>\n",
       "    <tr>\n",
       "      <th>2</th>\n",
       "      <td>2019-09-24</td>\n",
       "      <td>190925_005750</td>\n",
       "      <td>8.0</td>\n",
       "      <td>FF</td>\n",
       "      <td>97.4</td>\n",
       "      <td>1</td>\n",
       "      <td>4</td>\n",
       "      <td>2</td>\n",
       "      <td>4</td>\n",
       "      <td>R</td>\n",
       "      <td>1_2</td>\n",
       "      <td>2</td>\n",
       "      <td>6</td>\n",
       "      <td>fb:0_sb:0_tb:0</td>\n",
       "      <td>Standard</td>\n",
       "      <td>Standard</td>\n",
       "    </tr>\n",
       "    <tr>\n",
       "      <th>1</th>\n",
       "      <td>2019-09-24</td>\n",
       "      <td>190925_005823</td>\n",
       "      <td>9.0</td>\n",
       "      <td>CH</td>\n",
       "      <td>84.4</td>\n",
       "      <td>1</td>\n",
       "      <td>4</td>\n",
       "      <td>2</td>\n",
       "      <td>5</td>\n",
       "      <td>R</td>\n",
       "      <td>1_2</td>\n",
       "      <td>2</td>\n",
       "      <td>6</td>\n",
       "      <td>fb:0_sb:0_tb:0</td>\n",
       "      <td>Standard</td>\n",
       "      <td>Standard</td>\n",
       "    </tr>\n",
       "    <tr>\n",
       "      <th>0</th>\n",
       "      <td>2019-09-24</td>\n",
       "      <td>190925_005920</td>\n",
       "      <td>6.0</td>\n",
       "      <td>FF</td>\n",
       "      <td>92.7</td>\n",
       "      <td>1</td>\n",
       "      <td>4</td>\n",
       "      <td>2</td>\n",
       "      <td>1</td>\n",
       "      <td>L</td>\n",
       "      <td>0_0</td>\n",
       "      <td>2</td>\n",
       "      <td>6</td>\n",
       "      <td>fb:1_sb:0_tb:0</td>\n",
       "      <td>Infield shift</td>\n",
       "      <td>Standard</td>\n",
       "    </tr>\n",
       "  </tbody>\n",
       "</table>\n",
       "<p>2770 rows × 16 columns</p>\n",
       "</div>"
      ],
      "text/plain": [
       "       game_date          sv_id  zone pitch_type  release_speed  \\\n",
       "2769  2019-03-28  190328_170717   6.0         FF           93.7   \n",
       "2768  2019-03-28  190328_170732   5.0         FF           94.2   \n",
       "2767  2019-03-28  190328_170752   5.0         FF           96.3   \n",
       "2766  2019-03-28  190328_170825   6.0         SL           85.6   \n",
       "2765  2019-03-28  190328_170842  12.0         FF           95.5   \n",
       "...          ...            ...   ...        ...            ...   \n",
       "4     2019-09-24  190925_005705   4.0         CU           79.1   \n",
       "3     2019-09-24  190925_005726  14.0         SL           84.8   \n",
       "2     2019-09-24  190925_005750   8.0         FF           97.4   \n",
       "1     2019-09-24  190925_005823   9.0         CH           84.4   \n",
       "0     2019-09-24  190925_005920   6.0         FF           92.7   \n",
       "\n",
       "      nats_home1_away0  opp_score  nats_score  pitch_number stand  \\\n",
       "2769                 1          0           0             1     L   \n",
       "2768                 1          0           0             2     L   \n",
       "2767                 1          0           0             3     L   \n",
       "2766                 1          0           0             1     R   \n",
       "2765                 1          0           0             2     R   \n",
       "...                ...        ...         ...           ...   ...   \n",
       "4                    1          4           2             2     R   \n",
       "3                    1          4           2             3     R   \n",
       "2                    1          4           2             4     R   \n",
       "1                    1          4           2             5     R   \n",
       "0                    1          4           2             1     L   \n",
       "\n",
       "     balls_strikes  outs_when_up  inning     all_runners  \\\n",
       "2769           0_0             0       1  fb:0_sb:0_tb:0   \n",
       "2768           0_1             0       1  fb:0_sb:0_tb:0   \n",
       "2767           0_2             0       1  fb:0_sb:0_tb:0   \n",
       "2766           0_0             1       1  fb:0_sb:0_tb:0   \n",
       "2765           0_1             1       1  fb:0_sb:0_tb:0   \n",
       "...            ...           ...     ...             ...   \n",
       "4              0_1             2       6  fb:0_sb:0_tb:0   \n",
       "3              0_2             2       6  fb:0_sb:0_tb:0   \n",
       "2              1_2             2       6  fb:0_sb:0_tb:0   \n",
       "1              1_2             2       6  fb:0_sb:0_tb:0   \n",
       "0              0_0             2       6  fb:1_sb:0_tb:0   \n",
       "\n",
       "     if_fielding_alignment of_fielding_alignment  \n",
       "2769         Infield shift              Standard  \n",
       "2768         Infield shift              Standard  \n",
       "2767         Infield shift              Standard  \n",
       "2766         Infield shift              Standard  \n",
       "2765         Infield shift              Standard  \n",
       "...                    ...                   ...  \n",
       "4                 Standard              Standard  \n",
       "3                 Standard              Standard  \n",
       "2                 Standard              Standard  \n",
       "1                 Standard              Standard  \n",
       "0            Infield shift              Standard  \n",
       "\n",
       "[2770 rows x 16 columns]"
      ]
     },
     "execution_count": 178,
     "metadata": {},
     "output_type": "execute_result"
    }
   ],
   "source": [
    "madmax"
   ]
  },
  {
   "cell_type": "markdown",
   "metadata": {},
   "source": [
    "## Let's investigate our target variables\n",
    "- zone\n",
    "- pitch_type\n",
    "- release_speed"
   ]
  },
  {
   "cell_type": "code",
   "execution_count": 185,
   "metadata": {},
   "outputs": [
    {
     "ename": "TypeError",
     "evalue": "'module' object is not callable",
     "output_type": "error",
     "traceback": [
      "\u001b[0;31m---------------------------------------------------------------------------\u001b[0m",
      "\u001b[0;31mTypeError\u001b[0m                                 Traceback (most recent call last)",
      "\u001b[0;32m<ipython-input-185-687396d98e09>\u001b[0m in \u001b[0;36m<module>\u001b[0;34m\u001b[0m\n\u001b[1;32m      1\u001b[0m \u001b[0;31m### Max throws more to zone 14 and 13 than he does zones 1, 3, and 7\u001b[0m\u001b[0;34m\u001b[0m\u001b[0;34m\u001b[0m\u001b[0;34m\u001b[0m\u001b[0m\n\u001b[0;32m----> 2\u001b[0;31m \u001b[0mplt\u001b[0m\u001b[0;34m.\u001b[0m\u001b[0mfigure\u001b[0m\u001b[0;34m(\u001b[0m\u001b[0mfigsize\u001b[0m\u001b[0;34m=\u001b[0m\u001b[0;34m(\u001b[0m\u001b[0;36m16\u001b[0m\u001b[0;34m,\u001b[0m \u001b[0;36m6\u001b[0m\u001b[0;34m)\u001b[0m\u001b[0;34m)\u001b[0m\u001b[0;34m\u001b[0m\u001b[0;34m\u001b[0m\u001b[0m\n\u001b[0m\u001b[1;32m      3\u001b[0m \u001b[0;34m\u001b[0m\u001b[0m\n\u001b[1;32m      4\u001b[0m zone_count = sns.countplot(x='zone', \n\u001b[1;32m      5\u001b[0m               \u001b[0mdata\u001b[0m\u001b[0;34m=\u001b[0m\u001b[0mmadmax\u001b[0m\u001b[0;34m,\u001b[0m\u001b[0;34m\u001b[0m\u001b[0;34m\u001b[0m\u001b[0m\n",
      "\u001b[0;31mTypeError\u001b[0m: 'module' object is not callable"
     ]
    }
   ],
   "source": [
    "### Max throws more to zone 14 and 13 than he does zones 1, 3, and 7\\\n",
    "\n",
    "zone_count = sns.countplot(x='zone', \n",
    "              data=madmax, \n",
    "              palette='Blues');"
   ]
  },
  {
   "cell_type": "code",
   "execution_count": 183,
   "metadata": {},
   "outputs": [
    {
     "data": {
      "image/png": "[encoded data removed]",
      "text/plain": [
       "<Figure size 432x288 with 1 Axes>"
      ]
     },
     "metadata": {
      "needs_background": "light"
     },
     "output_type": "display_data"
    }
   ],
   "source": [
    "### Max's dominant pitch is the four-seam fastball\n",
    "sns.countplot(x='pitch_type', data=madmax, palette='Blues', order=['FF', 'SL', 'CH', 'CU', 'FC']);"
   ]
  },
  {
   "cell_type": "code",
   "execution_count": 184,
   "metadata": {},
   "outputs": [
    {
     "data": {
      "image/png": "[encoded data removed]",
      "text/plain": [
       "<Figure size 432x288 with 1 Axes>"
      ]
     },
     "metadata": {
      "needs_background": "light"
     },
     "output_type": "display_data"
    }
   ],
   "source": [
    "sns.countplot(x='release_speed', data=madmax, palette='Blues', hue='pitch_type');"
   ]
  },
  {
   "cell_type": "markdown",
   "metadata": {},
   "source": [
    "### It is assumed, there will be different peaks relating to Max's different pitches.  For example the change up is intended to look like a fast ball but travel slower to the plate.  Different pitch types will travel at different speeds."
   ]
  },
  {
   "cell_type": "code",
   "execution_count": null,
   "metadata": {},
   "outputs": [],
   "source": []
  }
 ],
 "metadata": {
  "kernelspec": {
   "display_name": "Python 3",
   "language": "python",
   "name": "python3"
  },
  "language_info": {
   "codemirror_mode": {
    "name": "ipython",
    "version": 3
   },
   "file_extension": ".py",
   "mimetype": "text/x-python",
   "name": "python",
   "nbconvert_exporter": "python",
   "pygments_lexer": "ipython3",
   "version": "3.7.7"
  }
 },
 "nbformat": 4,
 "nbformat_minor": 4
}
