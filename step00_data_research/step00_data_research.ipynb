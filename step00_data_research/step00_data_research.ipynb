{
 "cells": [
  {
   "cell_type": "markdown",
   "metadata": {},
   "source": [
    "# Step00 Let's find the data\n",
    "\n",
    "In this project, I plan to classify Max Scherzer's pitch selection based on the situation of a particular game.  Although the pararmeters are yet to be defined, potenial factors include the balls, strikes, outs, and/or inning of a particular game.  I hope to classify Max's choice of pitch type and the location of his pitch based on a particular situation.  To do this, I must acquire data pertaining to every pitch he threw in the 2019 season.  This notebook documents key findings in the pursuit of this data.  Wish me luck!\n",
    "\n",
    "<img src='../images/madmax.png' alt='Drawing' style='width: 450px;'/>"
   ]
  },
  {
   "cell_type": "markdown",
   "metadata": {},
   "source": [
    "## sabr.org provides some guidance\n",
    "Helpful hints provided here: https://sabr.org/sabermetrics/data\n",
    "\n",
    "\"For those of us who want to do more complicated things, Baseball Reference, awesome as it is, just isn’t enough. We need the raw data on our own computers, so we can manipulate it in ways that B-R never thought of. There are two main sources of raw data: the Lahman Database and Retrosheet.\"\n",
    "\n",
    "__Leads__\n",
    "- Lahman Database\n",
    "- Retrosheet"
   ]
  },
  {
   "cell_type": "markdown",
   "metadata": {},
   "source": [
    "## Review Lahman Database\n",
    "\n",
    "Lahman (http://www.seanlahman.com/baseball-archive/statistics/) provides raw data in MS Access, SQL, csv, R, and SQL Lite formats for the 2019 season.  Will grab the csv for inital analysis of the suitability of this data.  If it looks good, SQL or SQL Lite look like viable options for more sophisticated EDA in... later innings."
   ]
  },
  {
   "cell_type": "markdown",
   "metadata": {},
   "source": [
    "### Review Lahman Data"
   ]
  },
  {
   "cell_type": "code",
   "execution_count": 1,
   "metadata": {},
   "outputs": [],
   "source": [
    "import pandas as pd\n",
    "import numpy as np"
   ]
  },
  {
   "cell_type": "code",
   "execution_count": 2,
   "metadata": {},
   "outputs": [],
   "source": [
    "lahman = pd.read_csv('../data/lahman/core/Pitching.csv')"
   ]
  },
  {
   "cell_type": "code",
   "execution_count": 3,
   "metadata": {},
   "outputs": [
    {
     "data": {
      "text/html": [
       "<div>\n",
       "<style scoped>\n",
       "    .dataframe tbody tr th:only-of-type {\n",
       "        vertical-align: middle;\n",
       "    }\n",
       "\n",
       "    .dataframe tbody tr th {\n",
       "        vertical-align: top;\n",
       "    }\n",
       "\n",
       "    .dataframe thead th {\n",
       "        text-align: right;\n",
       "    }\n",
       "</style>\n",
       "<table border=\"1\" class=\"dataframe\">\n",
       "  <thead>\n",
       "    <tr style=\"text-align: right;\">\n",
       "      <th></th>\n",
       "      <th>playerID</th>\n",
       "      <th>yearID</th>\n",
       "      <th>stint</th>\n",
       "      <th>teamID</th>\n",
       "      <th>lgID</th>\n",
       "      <th>W</th>\n",
       "      <th>L</th>\n",
       "      <th>G</th>\n",
       "      <th>GS</th>\n",
       "      <th>CG</th>\n",
       "      <th>...</th>\n",
       "      <th>IBB</th>\n",
       "      <th>WP</th>\n",
       "      <th>HBP</th>\n",
       "      <th>BK</th>\n",
       "      <th>BFP</th>\n",
       "      <th>GF</th>\n",
       "      <th>R</th>\n",
       "      <th>SH</th>\n",
       "      <th>SF</th>\n",
       "      <th>GIDP</th>\n",
       "    </tr>\n",
       "  </thead>\n",
       "  <tbody>\n",
       "    <tr>\n",
       "      <th>0</th>\n",
       "      <td>bechtge01</td>\n",
       "      <td>1871</td>\n",
       "      <td>1</td>\n",
       "      <td>PH1</td>\n",
       "      <td>NaN</td>\n",
       "      <td>1</td>\n",
       "      <td>2</td>\n",
       "      <td>3</td>\n",
       "      <td>3</td>\n",
       "      <td>2</td>\n",
       "      <td>...</td>\n",
       "      <td>NaN</td>\n",
       "      <td>7</td>\n",
       "      <td>NaN</td>\n",
       "      <td>0</td>\n",
       "      <td>146.0</td>\n",
       "      <td>0</td>\n",
       "      <td>42</td>\n",
       "      <td>NaN</td>\n",
       "      <td>NaN</td>\n",
       "      <td>NaN</td>\n",
       "    </tr>\n",
       "    <tr>\n",
       "      <th>1</th>\n",
       "      <td>brainas01</td>\n",
       "      <td>1871</td>\n",
       "      <td>1</td>\n",
       "      <td>WS3</td>\n",
       "      <td>NaN</td>\n",
       "      <td>12</td>\n",
       "      <td>15</td>\n",
       "      <td>30</td>\n",
       "      <td>30</td>\n",
       "      <td>30</td>\n",
       "      <td>...</td>\n",
       "      <td>NaN</td>\n",
       "      <td>7</td>\n",
       "      <td>NaN</td>\n",
       "      <td>0</td>\n",
       "      <td>1291.0</td>\n",
       "      <td>0</td>\n",
       "      <td>292</td>\n",
       "      <td>NaN</td>\n",
       "      <td>NaN</td>\n",
       "      <td>NaN</td>\n",
       "    </tr>\n",
       "    <tr>\n",
       "      <th>2</th>\n",
       "      <td>fergubo01</td>\n",
       "      <td>1871</td>\n",
       "      <td>1</td>\n",
       "      <td>NY2</td>\n",
       "      <td>NaN</td>\n",
       "      <td>0</td>\n",
       "      <td>0</td>\n",
       "      <td>1</td>\n",
       "      <td>0</td>\n",
       "      <td>0</td>\n",
       "      <td>...</td>\n",
       "      <td>NaN</td>\n",
       "      <td>2</td>\n",
       "      <td>NaN</td>\n",
       "      <td>0</td>\n",
       "      <td>14.0</td>\n",
       "      <td>0</td>\n",
       "      <td>9</td>\n",
       "      <td>NaN</td>\n",
       "      <td>NaN</td>\n",
       "      <td>NaN</td>\n",
       "    </tr>\n",
       "    <tr>\n",
       "      <th>3</th>\n",
       "      <td>fishech01</td>\n",
       "      <td>1871</td>\n",
       "      <td>1</td>\n",
       "      <td>RC1</td>\n",
       "      <td>NaN</td>\n",
       "      <td>4</td>\n",
       "      <td>16</td>\n",
       "      <td>24</td>\n",
       "      <td>24</td>\n",
       "      <td>22</td>\n",
       "      <td>...</td>\n",
       "      <td>NaN</td>\n",
       "      <td>20</td>\n",
       "      <td>NaN</td>\n",
       "      <td>0</td>\n",
       "      <td>1080.0</td>\n",
       "      <td>1</td>\n",
       "      <td>257</td>\n",
       "      <td>NaN</td>\n",
       "      <td>NaN</td>\n",
       "      <td>NaN</td>\n",
       "    </tr>\n",
       "    <tr>\n",
       "      <th>4</th>\n",
       "      <td>fleetfr01</td>\n",
       "      <td>1871</td>\n",
       "      <td>1</td>\n",
       "      <td>NY2</td>\n",
       "      <td>NaN</td>\n",
       "      <td>0</td>\n",
       "      <td>1</td>\n",
       "      <td>1</td>\n",
       "      <td>1</td>\n",
       "      <td>1</td>\n",
       "      <td>...</td>\n",
       "      <td>NaN</td>\n",
       "      <td>0</td>\n",
       "      <td>NaN</td>\n",
       "      <td>0</td>\n",
       "      <td>57.0</td>\n",
       "      <td>0</td>\n",
       "      <td>21</td>\n",
       "      <td>NaN</td>\n",
       "      <td>NaN</td>\n",
       "      <td>NaN</td>\n",
       "    </tr>\n",
       "  </tbody>\n",
       "</table>\n",
       "<p>5 rows × 30 columns</p>\n",
       "</div>"
      ],
      "text/plain": [
       "    playerID  yearID  stint teamID lgID   W   L   G  GS  CG  ...  IBB  WP  \\\n",
       "0  bechtge01    1871      1    PH1  NaN   1   2   3   3   2  ...  NaN   7   \n",
       "1  brainas01    1871      1    WS3  NaN  12  15  30  30  30  ...  NaN   7   \n",
       "2  fergubo01    1871      1    NY2  NaN   0   0   1   0   0  ...  NaN   2   \n",
       "3  fishech01    1871      1    RC1  NaN   4  16  24  24  22  ...  NaN  20   \n",
       "4  fleetfr01    1871      1    NY2  NaN   0   1   1   1   1  ...  NaN   0   \n",
       "\n",
       "   HBP  BK     BFP  GF    R  SH  SF  GIDP  \n",
       "0  NaN   0   146.0   0   42 NaN NaN   NaN  \n",
       "1  NaN   0  1291.0   0  292 NaN NaN   NaN  \n",
       "2  NaN   0    14.0   0    9 NaN NaN   NaN  \n",
       "3  NaN   0  1080.0   1  257 NaN NaN   NaN  \n",
       "4  NaN   0    57.0   0   21 NaN NaN   NaN  \n",
       "\n",
       "[5 rows x 30 columns]"
      ]
     },
     "execution_count": 3,
     "metadata": {},
     "output_type": "execute_result"
    }
   ],
   "source": [
    "lahman.head()"
   ]
  },
  {
   "cell_type": "markdown",
   "metadata": {},
   "source": [
    "Wow, this goes back all the way to 1871?  Wow, let's take a look at 2019 only..."
   ]
  },
  {
   "cell_type": "code",
   "execution_count": 4,
   "metadata": {},
   "outputs": [],
   "source": [
    "s19 = lahman.loc[(lahman.yearID == 2019)]"
   ]
  },
  {
   "cell_type": "markdown",
   "metadata": {},
   "source": [
    "Can we find Max Scherzer the playerID column?  Let's find out..."
   ]
  },
  {
   "cell_type": "code",
   "execution_count": 5,
   "metadata": {},
   "outputs": [
    {
     "data": {
      "text/html": [
       "<div>\n",
       "<style scoped>\n",
       "    .dataframe tbody tr th:only-of-type {\n",
       "        vertical-align: middle;\n",
       "    }\n",
       "\n",
       "    .dataframe tbody tr th {\n",
       "        vertical-align: top;\n",
       "    }\n",
       "\n",
       "    .dataframe thead th {\n",
       "        text-align: right;\n",
       "    }\n",
       "</style>\n",
       "<table border=\"1\" class=\"dataframe\">\n",
       "  <thead>\n",
       "    <tr style=\"text-align: right;\">\n",
       "      <th></th>\n",
       "      <th>playerID</th>\n",
       "      <th>yearID</th>\n",
       "      <th>stint</th>\n",
       "      <th>teamID</th>\n",
       "      <th>lgID</th>\n",
       "      <th>W</th>\n",
       "      <th>L</th>\n",
       "      <th>G</th>\n",
       "      <th>GS</th>\n",
       "      <th>CG</th>\n",
       "      <th>...</th>\n",
       "      <th>IBB</th>\n",
       "      <th>WP</th>\n",
       "      <th>HBP</th>\n",
       "      <th>BK</th>\n",
       "      <th>BFP</th>\n",
       "      <th>GF</th>\n",
       "      <th>R</th>\n",
       "      <th>SH</th>\n",
       "      <th>SF</th>\n",
       "      <th>GIDP</th>\n",
       "    </tr>\n",
       "  </thead>\n",
       "  <tbody>\n",
       "    <tr>\n",
       "      <th>47441</th>\n",
       "      <td>scherma01</td>\n",
       "      <td>2019</td>\n",
       "      <td>1</td>\n",
       "      <td>WAS</td>\n",
       "      <td>NL</td>\n",
       "      <td>11</td>\n",
       "      <td>7</td>\n",
       "      <td>27</td>\n",
       "      <td>27</td>\n",
       "      <td>0</td>\n",
       "      <td>...</td>\n",
       "      <td>2.0</td>\n",
       "      <td>0</td>\n",
       "      <td>7.0</td>\n",
       "      <td>0</td>\n",
       "      <td>693.0</td>\n",
       "      <td>0</td>\n",
       "      <td>59</td>\n",
       "      <td>0.0</td>\n",
       "      <td>2.0</td>\n",
       "      <td>7.0</td>\n",
       "    </tr>\n",
       "  </tbody>\n",
       "</table>\n",
       "<p>1 rows × 30 columns</p>\n",
       "</div>"
      ],
      "text/plain": [
       "        playerID  yearID  stint teamID lgID   W  L   G  GS  CG  ...  IBB  WP  \\\n",
       "47441  scherma01    2019      1    WAS   NL  11  7  27  27   0  ...  2.0   0   \n",
       "\n",
       "       HBP  BK    BFP  GF   R   SH   SF  GIDP  \n",
       "47441  7.0   0  693.0   0  59  0.0  2.0   7.0  \n",
       "\n",
       "[1 rows x 30 columns]"
      ]
     },
     "execution_count": 5,
     "metadata": {},
     "output_type": "execute_result"
    }
   ],
   "source": [
    "s19.loc[(s19.playerID == 'scherma01')]"
   ]
  },
  {
   "cell_type": "markdown",
   "metadata": {},
   "source": [
    "Ok, so I cheated a little and reviewed the People.csv document with Numbers (on Mac) to discover Max's playerID (scherma01).  Looks like this data set is a dud.  Some great aggregated data provided but this is not granular enough.  The search continues for more granular data."
   ]
  },
  {
   "cell_type": "markdown",
   "metadata": {},
   "source": [
    "## Let's take a look at Retrosheet"
   ]
  },
  {
   "cell_type": "markdown",
   "metadata": {},
   "source": [
    "Like Lahman, this site provides some grat historical data about MLB history but it's not providing what's need for this analysis, back to the drawing board."
   ]
  },
  {
   "cell_type": "markdown",
   "metadata": {},
   "source": [
    "## MLB official API\n",
    "\n",
    "Thanks to a helpful post from Micheal Willard (http://michealwillard.com/mlbam_api/), it appears that MLB offers access to its API.  Worth digging into this resource."
   ]
  },
  {
   "cell_type": "code",
   "execution_count": 6,
   "metadata": {},
   "outputs": [],
   "source": [
    "# Base url for MLB API\n",
    "api = 'http://gd2.mlb.com/components/game/mlb/'"
   ]
  },
  {
   "cell_type": "markdown",
   "metadata": {},
   "source": [
    "### Oh, imagine that, there's a Python wrapper for the MLB API... homerun!"
   ]
  },
  {
   "cell_type": "markdown",
   "metadata": {},
   "source": [
    "Source: https://pypi.org/project/MLB-StatsAPI/ <br>\n",
    "toddrob99 (GitHub handle) provides the repo here: https://github.com/toddrob99/MLB-StatsAPI <br>\n",
    "Let's import this package..."
   ]
  },
  {
   "cell_type": "code",
   "execution_count": 10,
   "metadata": {},
   "outputs": [],
   "source": [
    "# !pip install MLB-StatsAPI\n",
    "# !python3 -m pip install --upgrade MLB-StatsAPI"
   ]
  },
  {
   "cell_type": "code",
   "execution_count": 11,
   "metadata": {},
   "outputs": [],
   "source": [
    "import statsapi"
   ]
  },
  {
   "cell_type": "code",
   "execution_count": 12,
   "metadata": {},
   "outputs": [],
   "source": [
    "### toddrob99 provides the following block of code for logging\n",
    "import logging\n",
    "logger = logging.getLogger('statsapi')\n",
    "logger.setLevel(logging.DEBUG)\n",
    "rootLogger = logging.getLogger()\n",
    "rootLogger.setLevel(logging.DEBUG)\n",
    "ch = logging.StreamHandler()\n",
    "formatter = logging.Formatter(\"%(asctime)s - %(levelname)8s - %(name)s(%(thread)s) - %(message)s\")\n",
    "ch.setFormatter(formatter)\n",
    "rootLogger.addHandler(ch)"
   ]
  },
  {
   "cell_type": "markdown",
   "metadata": {},
   "source": [
    "### Medium tutorial\n",
    "Austin L.E. Krause provides a tutorial of toddrob99's tool here: <br>\n",
    "https://medium.com/better-programming/using-the-mlb-stats-api-to-get-daily-data-88f48266656c\n",
    "\n",
    "Let's step up to the plate, I try this out... <br>\n",
    "Swing and a miss, too high level."
   ]
  },
  {
   "cell_type": "markdown",
   "metadata": {},
   "source": [
    "## Reddit, of course\n",
    "Oh, what do we have here, toddrob99 provides some info on his Reddit page: <br>\n",
    "https://www.reddit.com/r/baseball/comments/bjovz3/new_python_wrapper_for_mlb_stats_api/\n",
    "\n",
    "...and swing and a miss.  Strike two.\n",
    "Let's get some fresh pinetar on this Lousville Slugger and defend the plate..."
   ]
  },
  {
   "cell_type": "markdown",
   "metadata": {},
   "source": [
    "## As said by that breathing piece of garbage, Bill O'Reilly...\n",
    "\n",
    "<table><tr>\n",
    "<td> <img src='../images/bor_sucks.gif' alt='Drawing' style='width: 450px;'/> </td>\n",
    "<td> <img src='../images/bor_live.gif' alt='Drawing' style='width: 400px;'/> </td>\n",
    "</tr>"
   ]
  },
  {
   "cell_type": "markdown",
   "metadata": {},
   "source": [
    "## Said differently, let's keep looking... and it appears we've found pay dirt!\n",
    "The baseball savant website has the data we need!  It provides the per-pitch data for which we search.  The link below provides data pertaining to every pitch Max Max threw in 2019. <br>\n",
    "\n",
    "https://baseballsavant.mlb.com/statcast_search?hfPT=&hfAB=&hfBBT=&hfPR=&hfZ=&stadium=&hfBBL=&hfNewZones=&hfGT=R%7C&hfC=&hfSea=2019%7C&hfSit=&player_type=pitcher&hfOuts=&opponent=&pitcher_throws=&batter_stands=&hfSA=&game_date_gt=&game_date_lt=&hfInfield=&team=&position=&hfOutfield=&hfRO=&home_road=&hfFlag=&hfPull=&pitchers_lookup%5B%5D=453286&metric_1=&hfInn=&min_pitches=0&min_results=0&group_by=name&sort_col=pitches&player_event_sort=h_launch_speed&sort_order=desc&min_pas=0&chk_pitch_type=on&chk_pitch_result=on&chk_count=on&chk_batter_stands=on&chk_inning=on&chk_metric1_gt=on&chk_metric2_gt=on&chk_metric3_gt=on&chk_outs=on&chk_pitcher_throws=on&chk_runner_on=on&chk_metric1_lt=on&chk_metric2_lt=on&chk_metric3_lt=on#results"
   ]
  },
  {
   "cell_type": "markdown",
   "metadata": {},
   "source": [
    "## It's time for...\n",
    "\n",
    "<img src='../images/closer_look.gif' alt='Drawing' style='width: 450px;'/>"
   ]
  },
  {
   "cell_type": "code",
   "execution_count": 13,
   "metadata": {},
   "outputs": [],
   "source": [
    "madmax = pd.read_csv('../data/savant/madmax_2019_pitches.csv')"
   ]
  },
  {
   "cell_type": "code",
   "execution_count": 49,
   "metadata": {},
   "outputs": [
    {
     "data": {
      "text/html": [
       "<div>\n",
       "<style scoped>\n",
       "    .dataframe tbody tr th:only-of-type {\n",
       "        vertical-align: middle;\n",
       "    }\n",
       "\n",
       "    .dataframe tbody tr th {\n",
       "        vertical-align: top;\n",
       "    }\n",
       "\n",
       "    .dataframe thead th {\n",
       "        text-align: right;\n",
       "    }\n",
       "</style>\n",
       "<table border=\"1\" class=\"dataframe\">\n",
       "  <thead>\n",
       "    <tr style=\"text-align: right;\">\n",
       "      <th></th>\n",
       "      <th>Pitch</th>\n",
       "      <th>MPH</th>\n",
       "      <th>EV (MPH)</th>\n",
       "      <th>Pitcher</th>\n",
       "      <th>Batter</th>\n",
       "      <th>Dist</th>\n",
       "      <th>Spin Rate</th>\n",
       "      <th>LA (°)</th>\n",
       "      <th>Zone</th>\n",
       "      <th>Date</th>\n",
       "      <th>Count</th>\n",
       "      <th>Inning</th>\n",
       "      <th>Pitch Result</th>\n",
       "      <th>PA Result</th>\n",
       "    </tr>\n",
       "  </thead>\n",
       "  <tbody>\n",
       "    <tr>\n",
       "      <th>0</th>\n",
       "      <td>FF</td>\n",
       "      <td>92.7</td>\n",
       "      <td>76.7</td>\n",
       "      <td>Max Scherzer</td>\n",
       "      <td>Adam Haseley</td>\n",
       "      <td>261.0</td>\n",
       "      <td>2299.0</td>\n",
       "      <td>38.5</td>\n",
       "      <td>6.0</td>\n",
       "      <td>2019-09-24</td>\n",
       "      <td>0-0</td>\n",
       "      <td>Top 6</td>\n",
       "      <td>hit_into_play</td>\n",
       "      <td>Adam Haseley flies out to center fielder Victo...</td>\n",
       "    </tr>\n",
       "    <tr>\n",
       "      <th>1</th>\n",
       "      <td>CH</td>\n",
       "      <td>84.4</td>\n",
       "      <td>51.5</td>\n",
       "      <td>Max Scherzer</td>\n",
       "      <td>Scott Kingery</td>\n",
       "      <td>3.0</td>\n",
       "      <td>1494.0</td>\n",
       "      <td>-24.0</td>\n",
       "      <td>9.0</td>\n",
       "      <td>2019-09-24</td>\n",
       "      <td>1-2</td>\n",
       "      <td>Top 6</td>\n",
       "      <td>hit_into_play_no_out</td>\n",
       "      <td>Scott Kingery singles on a soft ground ball to...</td>\n",
       "    </tr>\n",
       "    <tr>\n",
       "      <th>2</th>\n",
       "      <td>FF</td>\n",
       "      <td>97.4</td>\n",
       "      <td>76.3</td>\n",
       "      <td>Max Scherzer</td>\n",
       "      <td>Scott Kingery</td>\n",
       "      <td>203.0</td>\n",
       "      <td>2465.0</td>\n",
       "      <td>27.1</td>\n",
       "      <td>8.0</td>\n",
       "      <td>2019-09-24</td>\n",
       "      <td>1-2</td>\n",
       "      <td>Top 6</td>\n",
       "      <td>foul</td>\n",
       "      <td>NaN</td>\n",
       "    </tr>\n",
       "    <tr>\n",
       "      <th>3</th>\n",
       "      <td>SL</td>\n",
       "      <td>84.8</td>\n",
       "      <td>NaN</td>\n",
       "      <td>Max Scherzer</td>\n",
       "      <td>Scott Kingery</td>\n",
       "      <td>NaN</td>\n",
       "      <td>2295.0</td>\n",
       "      <td>NaN</td>\n",
       "      <td>14.0</td>\n",
       "      <td>2019-09-24</td>\n",
       "      <td>0-2</td>\n",
       "      <td>Top 6</td>\n",
       "      <td>ball</td>\n",
       "      <td>NaN</td>\n",
       "    </tr>\n",
       "    <tr>\n",
       "      <th>4</th>\n",
       "      <td>CU</td>\n",
       "      <td>79.1</td>\n",
       "      <td>69.2</td>\n",
       "      <td>Max Scherzer</td>\n",
       "      <td>Scott Kingery</td>\n",
       "      <td>164.0</td>\n",
       "      <td>2818.0</td>\n",
       "      <td>62.8</td>\n",
       "      <td>4.0</td>\n",
       "      <td>2019-09-24</td>\n",
       "      <td>0-1</td>\n",
       "      <td>Top 6</td>\n",
       "      <td>foul</td>\n",
       "      <td>NaN</td>\n",
       "    </tr>\n",
       "  </tbody>\n",
       "</table>\n",
       "</div>"
      ],
      "text/plain": [
       "  Pitch   MPH  EV (MPH)       Pitcher         Batter   Dist  Spin Rate  \\\n",
       "0    FF  92.7      76.7  Max Scherzer   Adam Haseley  261.0     2299.0   \n",
       "1    CH  84.4      51.5  Max Scherzer  Scott Kingery    3.0     1494.0   \n",
       "2    FF  97.4      76.3  Max Scherzer  Scott Kingery  203.0     2465.0   \n",
       "3    SL  84.8       NaN  Max Scherzer  Scott Kingery    NaN     2295.0   \n",
       "4    CU  79.1      69.2  Max Scherzer  Scott Kingery  164.0     2818.0   \n",
       "\n",
       "   LA (°)  Zone        Date Count Inning          Pitch Result  \\\n",
       "0    38.5   6.0  2019-09-24   0-0  Top 6         hit_into_play   \n",
       "1   -24.0   9.0  2019-09-24   1-2  Top 6  hit_into_play_no_out   \n",
       "2    27.1   8.0  2019-09-24   1-2  Top 6                  foul   \n",
       "3     NaN  14.0  2019-09-24   0-2  Top 6                  ball   \n",
       "4    62.8   4.0  2019-09-24   0-1  Top 6                  foul   \n",
       "\n",
       "                                           PA Result  \n",
       "0  Adam Haseley flies out to center fielder Victo...  \n",
       "1  Scott Kingery singles on a soft ground ball to...  \n",
       "2                                                NaN  \n",
       "3                                                NaN  \n",
       "4                                                NaN  "
      ]
     },
     "execution_count": 49,
     "metadata": {},
     "output_type": "execute_result"
    }
   ],
   "source": [
    "madmax.head()"
   ]
  },
  {
   "cell_type": "markdown",
   "metadata": {},
   "source": [
    "## We are in business!\n",
    "Ok, we are in business.  That ends Step00: Data Research, we'll pick up in Step01: Data Cleaning and analysis."
   ]
  }
 ],
 "metadata": {
  "kernelspec": {
   "display_name": "Python 3",
   "language": "python",
   "name": "python3"
  },
  "language_info": {
   "codemirror_mode": {
    "name": "ipython",
    "version": 3
   },
   "file_extension": ".py",
   "mimetype": "text/x-python",
   "name": "python",
   "nbconvert_exporter": "python",
   "pygments_lexer": "ipython3",
   "version": "3.7.7"
  }
 },
 "nbformat": 4,
 "nbformat_minor": 4
}
